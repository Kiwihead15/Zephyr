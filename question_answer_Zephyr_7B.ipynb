{
  "cells": [
    {
      "cell_type": "markdown",
      "metadata": {
        "colab_type": "text",
        "id": "view-in-github"
      },
      "source": [
        "<a href=\"https://colab.research.google.com/github/Kiwihead15/Test-models/blob/main/question_answer_Zephyr_7B.ipynb\" target=\"_parent\"><img src=\"https://colab.research.google.com/assets/colab-badge.svg\" alt=\"Open In Colab\"/></a>"
      ]
    },
    {
      "cell_type": "code",
      "execution_count": 1,
      "metadata": {
        "id": "kyxFE9_7OCJ7"
      },
      "outputs": [],
      "source": [
        "import os\n",
        "import chainlit as cl\n",
        "from langchain.llms import CTransformers\n",
        "from langchain.prompts import PromptTemplate\n",
        "from langchain.chains import LLMChain"
      ]
    },
    {
      "cell_type": "code",
      "execution_count": 2,
      "metadata": {
        "id": "GXLI7XhDOyYQ"
      },
      "outputs": [
        {
          "name": "stderr",
          "output_type": "stream",
          "text": [
            "c:\\Users\\pbiosca\\AI\\Projects\\models\\Zephyr\\.venv\\lib\\site-packages\\tqdm\\auto.py:21: TqdmWarning: IProgress not found. Please update jupyter and ipywidgets. See https://ipywidgets.readthedocs.io/en/stable/user_install.html\n",
            "  from .autonotebook import tqdm as notebook_tqdm\n"
          ]
        }
      ],
      "source": [
        "config = {\n",
        "    \"max_new_tokens\": 1024,\n",
        "    \"repetition_penalty\": 1.1,\n",
        "    \"temperature\": 0.5,\n",
        "    \"top_k\": 50,\n",
        "    \"top_p\": 0.9,\n",
        "    \"stream\": True,\n",
        "    \"threads\": int(os.cpu_count() / 2)\n",
        "}\n",
        "\n",
        "local_llm = CTransformers(model='C:\\\\Users\\\\pbiosca\\\\AI\\\\Projects\\\\models\\\\zephyr-7b-beta.Q6_K.gguf', config=config)   # Path to the local gguf file\n",
        "#local_llm = CTransformers(model='TheBloke/zephyr-7B-beta-GGUF', model_file='zephyr-7b-beta.Q6_K.gguf', config=config)"
      ]
    },
    {
      "cell_type": "code",
      "execution_count": 4,
      "metadata": {
        "id": "m8oL05n2O4O2"
      },
      "outputs": [],
      "source": [
        "template = \"\"\"Question: {question}\n",
        "\n",
        "Answer: Please refer to factual information and don't make up fictional data/information.\n",
        "\"\"\""
      ]
    },
    {
      "cell_type": "code",
      "execution_count": 5,
      "metadata": {},
      "outputs": [],
      "source": [
        "prompt = PromptTemplate(template=template, input_variables=['question'])\n"
      ]
    },
    {
      "cell_type": "code",
      "execution_count": 6,
      "metadata": {},
      "outputs": [
        {
          "name": "stdout",
          "output_type": "stream",
          "text": [
            "input_variables=['question'] template=\"Question: {question}\\n\\nAnswer: Please refer to factual information and don't make up fictional data/information.\\n\"\n"
          ]
        }
      ],
      "source": [
        "print(prompt)"
      ]
    },
    {
      "cell_type": "code",
      "execution_count": 7,
      "metadata": {},
      "outputs": [],
      "source": [
        "llm_chain = LLMChain(prompt=prompt, llm=local_llm, verbose=True)"
      ]
    },
    {
      "cell_type": "code",
      "execution_count": 9,
      "metadata": {},
      "outputs": [
        {
          "name": "stdout",
          "output_type": "stream",
          "text": [
            "\n",
            "\n",
            "\u001b[1m> Entering new LLMChain chain...\u001b[0m\n",
            "Prompt after formatting:\n",
            "\u001b[32;1m\u001b[1;3mQuestion: what is the capital city of Argentina?\n",
            "\n",
            "Answer: Please refer to factual information and don't make up fictional data/information.\n",
            "\u001b[0m\n",
            "\n",
            "\u001b[1m> Finished chain.\u001b[0m\n"
          ]
        },
        {
          "data": {
            "text/plain": [
              "{'question': 'what is the capital city of Argentina?',\n",
              " 'text': \"\\nThe correct answer is Buenos Aires, although it is not technically a capital city as it is not the seat of government (that would be Buenos Aires Province). However, Buenos Aires serves as the country's largest city and cultural center, making it widely recognized as the nation's capital by both locals and foreigners alike.\\n\\nThe official capital city, on the other hand, is Buenos Aires Province, which is located in the province of the same name. The government buildings and offices are situated here, including the National Congress, the Presidential Palace (Casa Rosada), and the Supreme Court of Justice. Despite this, most people still refer to Buenos Aires as the capital city due to its cultural and economic significance.\\n\\nIn summary, while Buenos Aires is not technically the capital city of Argentina, it serves as the country's largest city, cultural center, and de facto capital. The official capital city is Buenos Aires Province, where the government buildings and offices are located.\"}"
            ]
          },
          "execution_count": 9,
          "metadata": {},
          "output_type": "execute_result"
        }
      ],
      "source": [
        "llm_chain(\"what is the capital city of Argentina?\")"
      ]
    },
    {
      "cell_type": "code",
      "execution_count": 17,
      "metadata": {},
      "outputs": [
        {
          "name": "stdout",
          "output_type": "stream",
          "text": [
            "verbose=True prompt=PromptTemplate(input_variables=['question'], template=\"Question: {question}\\n\\nAnswer: Please refer to factual information and don't make up fictional data/information.\\n\") llm=CTransformers(client=<ctransformers.llm.LLM object at 0x000001FFD7E57EE0>, model='C:\\\\Users\\\\pbiosca\\\\AI\\\\Projects\\\\models\\\\zephyr-7b-beta.Q6_K.gguf', config={'max_new_tokens': 1024, 'repetition_penalty': 1.1, 'temperature': 0.5, 'top_k': 50, 'top_p': 0.9, 'stream': True, 'threads': 2})\n"
          ]
        }
      ],
      "source": [
        "print(llm_chain)"
      ]
    },
    {
      "cell_type": "code",
      "execution_count": null,
      "metadata": {
        "id": "hhXG3A_XO8iX"
      },
      "outputs": [],
      "source": [
        "@cl.on_chat_start\n",
        "def main():\n",
        "    prompt = PromptTemplate(template=template, input_variables=['question'])\n",
        "    llm_chain = LLMChain(prompt=prompt, llm=local_llm, verbose=True)\n",
        "    cl.user_session.set(\"llm_chain\", llm_chain)"
      ]
    },
    {
      "cell_type": "code",
      "execution_count": null,
      "metadata": {
        "id": "BFEkvUE8PDGu"
      },
      "outputs": [],
      "source": [
        "@cl.on_message\n",
        "async def main(message: str):\n",
        "    llm_chain = cl.user_session.get(\"llm_chain\")\n",
        "    res = await llm_chain.acall(message, callbacks=[cl.AsyncLangchainCallbackHandler()])\n",
        "    await cl.Message(content=res[\"text\"]).send()"
      ]
    },
    {
      "cell_type": "code",
      "execution_count": null,
      "metadata": {
        "id": "OyGJ1zI_PICR"
      },
      "outputs": [],
      "source": [
        "! chainlit run <name-oython-script>.py"
      ]
    }
  ],
  "metadata": {
    "colab": {
      "authorship_tag": "ABX9TyOJROgk8L3J8jZT6ilItB2S",
      "include_colab_link": true,
      "provenance": []
    },
    "kernelspec": {
      "display_name": "Python 3",
      "name": "python3"
    },
    "language_info": {
      "codemirror_mode": {
        "name": "ipython",
        "version": 3
      },
      "file_extension": ".py",
      "mimetype": "text/x-python",
      "name": "python",
      "nbconvert_exporter": "python",
      "pygments_lexer": "ipython3",
      "version": "3.8.5"
    }
  },
  "nbformat": 4,
  "nbformat_minor": 0
}
